{
 "cells": [
  {
   "cell_type": "markdown",
   "metadata": {},
   "source": [
    "# Question-1"
   ]
  },
  {
   "cell_type": "code",
   "execution_count": 2,
   "metadata": {},
   "outputs": [
    {
     "name": "stdout",
     "output_type": "stream",
     "text": [
      "1\n",
      "2\n",
      "3\n",
      "4\n",
      "5\n",
      "6\n",
      "7\n",
      "8\n",
      "9\n",
      "10\n",
      "[2, 4, 6, 8, 10]\n"
     ]
    }
   ],
   "source": [
    "# Create an empty list. Accept 10 numbers from the user and append to it the list if it is an even number.\n",
    "l=[]\n",
    "for i in range(10):\n",
    "    a=int(input())\n",
    "    if(a%2==0):\n",
    "        l.append(a)\n",
    "print(l)"
   ]
  },
  {
   "cell_type": "markdown",
   "metadata": {},
   "source": [
    "# Question-2"
   ]
  },
  {
   "cell_type": "code",
   "execution_count": 8,
   "metadata": {},
   "outputs": [
    {
     "name": "stdout",
     "output_type": "stream",
     "text": [
      "------------------------\n",
      "[1, 2, 3, 4, 5, 6, 7, 8, 9, 10]\n",
      "------------------------\n",
      "[0, 1, 0, 1, 0, 1, 0, 1, 0, 1]\n",
      "------------------------\n",
      "[0, 1, 4, 9, 16, 25, 36, 49, 64, 81]\n",
      "------------------------\n",
      "[0, 2, 4, 6, 8]\n",
      "------------------------\n",
      "[1, 3, 5, 7, 9]\n",
      "------------------------\n"
     ]
    }
   ],
   "source": [
    "# Create a notebook on LIST COMPREHENSION. This exercise is to put you in a Self learning mode\n",
    "print(\"------------------------\")\n",
    "l=[i for i in range(1,11)]#printing the list of first 10 natural numbers\n",
    "print(l)\n",
    "print(\"------------------------\")\n",
    "l=[i%2 for i in range(10)]#printing 0 for even 1 for odd\n",
    "print(l)\n",
    "print(\"------------------------\")\n",
    "l=[i**2 for i in range(10)]#printing squares of numbers\n",
    "print(l)\n",
    "print(\"------------------------\")\n",
    "l=[i for i in range(10) if i%2==0]#printing even numbers\n",
    "print(l)\n",
    "print(\"------------------------\")\n",
    "l=[i for i in range(10) if i%2!=0]#printing odd numbers\n",
    "print(l)\n",
    "print(\"------------------------\")"
   ]
  },
  {
   "cell_type": "markdown",
   "metadata": {},
   "source": [
    "# Question-3"
   ]
  },
  {
   "cell_type": "code",
   "execution_count": 11,
   "metadata": {},
   "outputs": [
    {
     "name": "stdout",
     "output_type": "stream",
     "text": [
      "4\n",
      "{1: 1, 2: 4, 3: 9, 4: 16}\n"
     ]
    }
   ],
   "source": [
    "'''You have seen in the videos how powerful dictionary data structure is.\n",
    "In this assignment, given a number n, you have to write a program that generates a dictionary d which\n",
    "contains (i, i*i), where i is from 1 to n (both included).\n",
    "Then you have to just print this dictionary d.'''\n",
    "d={}\n",
    "n =int(input())\n",
    "for i in range(1,n+1):\n",
    "    d[i]=i**2\n",
    "print(d)"
   ]
  },
  {
   "cell_type": "markdown",
   "metadata": {},
   "source": [
    "# Question-4"
   ]
  },
  {
   "cell_type": "code",
   "execution_count": 17,
   "metadata": {},
   "outputs": [
    {
     "name": "stdout",
     "output_type": "stream",
     "text": [
      "4\n",
      "Up 5\n",
      "Down 3\n",
      "Left 5\n",
      "Right 4\n",
      "2\n"
     ]
    }
   ],
   "source": [
    "'''Write a program to compute the distance between the current position after\n",
    "a sequence of movement and original point. If the distance is a float, then\n",
    "just print the nearest integer (use round() function for that and then convert\n",
    "it into an integer).'''\n",
    "x=0\n",
    "y=0\n",
    "dis=0\n",
    "n=int(input())\n",
    "for i in range(n):\n",
    "    l=input().upper().split()\n",
    "    if l[0]=='RIGHT':\n",
    "        x+=int(l[1])\n",
    "    elif l[0]=='LEFT':\n",
    "        x-=int(l[1])\n",
    "    elif l[0]=='UP':\n",
    "        y+=int(l[1])\n",
    "    elif l[0]=='DOWN':\n",
    "        y-=int(l[1])\n",
    "dis=dis+(((x**2)+(y**2))**0.5)\n",
    "print(round(dis))"
   ]
  }
 ],
 "metadata": {
  "kernelspec": {
   "display_name": "Python 3",
   "language": "python",
   "name": "python3"
  },
  "language_info": {
   "codemirror_mode": {
    "name": "ipython",
    "version": 3
   },
   "file_extension": ".py",
   "mimetype": "text/x-python",
   "name": "python",
   "nbconvert_exporter": "python",
   "pygments_lexer": "ipython3",
   "version": "3.8.3"
  }
 },
 "nbformat": 4,
 "nbformat_minor": 4
}
